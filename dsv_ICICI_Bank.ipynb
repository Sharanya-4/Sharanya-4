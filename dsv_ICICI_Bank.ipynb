{
  "nbformat": 4,
  "nbformat_minor": 0,
  "metadata": {
    "colab": {
      "name": "dsv ICICI Bank",
      "provenance": [],
      "collapsed_sections": [],
      "authorship_tag": "ABX9TyOVprwlE/8x9sUgktaA9RGA",
      "include_colab_link": true
    },
    "kernelspec": {
      "name": "python3",
      "display_name": "Python 3"
    },
    "language_info": {
      "name": "python"
    }
  },
  "cells": [
    {
      "cell_type": "markdown",
      "metadata": {
        "id": "view-in-github",
        "colab_type": "text"
      },
      "source": [
        "<a href=\"https://colab.research.google.com/github/Sharanya-4/Sharanya-4/blob/main/dsv_ICICI_Bank.ipynb\" target=\"_parent\"><img src=\"https://colab.research.google.com/assets/colab-badge.svg\" alt=\"Open In Colab\"/></a>"
      ]
    },
    {
      "cell_type": "code",
      "metadata": {
        "colab": {
          "base_uri": "https://localhost:8080/"
        },
        "id": "zhVyMhYP3SL3",
        "outputId": "5a710f2d-263e-44a3-8bfb-228f8a410fb6"
      },
      "source": [
        "import numpy as np\n",
        "import pandas as pd\n",
        "\n",
        "data=pd.read_csv(\"ICICIBANK.csv\")\n",
        "print(data)"
      ],
      "execution_count": null,
      "outputs": [
        {
          "output_type": "stream",
          "name": "stdout",
          "text": [
            "            Date     Symbol Series  ...    Trades  Deliverable Volume  %Deliverble\n",
            "0     03-01-2000  ICICIBANK     EQ  ...       NaN                 NaN          NaN\n",
            "1     04-01-2000  ICICIBANK     EQ  ...       NaN                 NaN          NaN\n",
            "2     05-01-2000  ICICIBANK     EQ  ...       NaN                 NaN          NaN\n",
            "3     06-01-2000  ICICIBANK     EQ  ...       NaN                 NaN          NaN\n",
            "4     07-01-2000  ICICIBANK     EQ  ...       NaN                 NaN          NaN\n",
            "...          ...        ...    ...  ...       ...                 ...          ...\n",
            "5301  26-04-2021  ICICIBANK     EQ  ...  546696.0          16913351.0       0.2702\n",
            "5302  27-04-2021  ICICIBANK     EQ  ...  233412.0           9056247.0       0.3736\n",
            "5303  28-04-2021  ICICIBANK     EQ  ...  295406.0          14011476.0       0.4209\n",
            "5304  29-04-2021  ICICIBANK     EQ  ...  304029.0          10324897.0       0.2989\n",
            "5305  30-04-2021  ICICIBANK     EQ  ...  247055.0           7292392.0       0.3083\n",
            "\n",
            "[5306 rows x 15 columns]\n"
          ]
        }
      ]
    },
    {
      "cell_type": "code",
      "metadata": {
        "colab": {
          "base_uri": "https://localhost:8080/",
          "height": 363
        },
        "id": "hnoeT2pp4YZM",
        "outputId": "51c89fd5-c6d0-4a62-cfca-795145ae74fe"
      },
      "source": [
        "data.head(10)"
      ],
      "execution_count": null,
      "outputs": [
        {
          "output_type": "execute_result",
          "data": {
            "text/html": [
              "<div>\n",
              "<style scoped>\n",
              "    .dataframe tbody tr th:only-of-type {\n",
              "        vertical-align: middle;\n",
              "    }\n",
              "\n",
              "    .dataframe tbody tr th {\n",
              "        vertical-align: top;\n",
              "    }\n",
              "\n",
              "    .dataframe thead th {\n",
              "        text-align: right;\n",
              "    }\n",
              "</style>\n",
              "<table border=\"1\" class=\"dataframe\">\n",
              "  <thead>\n",
              "    <tr style=\"text-align: right;\">\n",
              "      <th></th>\n",
              "      <th>Date</th>\n",
              "      <th>Symbol</th>\n",
              "      <th>Series</th>\n",
              "      <th>Prev Close</th>\n",
              "      <th>Open</th>\n",
              "      <th>High</th>\n",
              "      <th>Low</th>\n",
              "      <th>Last</th>\n",
              "      <th>Close</th>\n",
              "      <th>VWAP</th>\n",
              "      <th>Volume</th>\n",
              "      <th>Turnover</th>\n",
              "      <th>Trades</th>\n",
              "      <th>Deliverable Volume</th>\n",
              "      <th>%Deliverble</th>\n",
              "    </tr>\n",
              "  </thead>\n",
              "  <tbody>\n",
              "    <tr>\n",
              "      <th>0</th>\n",
              "      <td>03-01-2000</td>\n",
              "      <td>ICICIBANK</td>\n",
              "      <td>EQ</td>\n",
              "      <td>69.20</td>\n",
              "      <td>74.35</td>\n",
              "      <td>74.75</td>\n",
              "      <td>71.40</td>\n",
              "      <td>74.75</td>\n",
              "      <td>74.75</td>\n",
              "      <td>73.20</td>\n",
              "      <td>286260</td>\n",
              "      <td>2.095440e+12</td>\n",
              "      <td>NaN</td>\n",
              "      <td>NaN</td>\n",
              "      <td>NaN</td>\n",
              "    </tr>\n",
              "    <tr>\n",
              "      <th>1</th>\n",
              "      <td>04-01-2000</td>\n",
              "      <td>ICICIBANK</td>\n",
              "      <td>EQ</td>\n",
              "      <td>74.75</td>\n",
              "      <td>73.05</td>\n",
              "      <td>78.50</td>\n",
              "      <td>71.00</td>\n",
              "      <td>73.25</td>\n",
              "      <td>73.05</td>\n",
              "      <td>73.38</td>\n",
              "      <td>296264</td>\n",
              "      <td>2.173890e+12</td>\n",
              "      <td>NaN</td>\n",
              "      <td>NaN</td>\n",
              "      <td>NaN</td>\n",
              "    </tr>\n",
              "    <tr>\n",
              "      <th>2</th>\n",
              "      <td>05-01-2000</td>\n",
              "      <td>ICICIBANK</td>\n",
              "      <td>EQ</td>\n",
              "      <td>73.05</td>\n",
              "      <td>70.00</td>\n",
              "      <td>73.50</td>\n",
              "      <td>67.50</td>\n",
              "      <td>70.00</td>\n",
              "      <td>69.50</td>\n",
              "      <td>70.85</td>\n",
              "      <td>227624</td>\n",
              "      <td>1.612790e+12</td>\n",
              "      <td>NaN</td>\n",
              "      <td>NaN</td>\n",
              "      <td>NaN</td>\n",
              "    </tr>\n",
              "    <tr>\n",
              "      <th>3</th>\n",
              "      <td>06-01-2000</td>\n",
              "      <td>ICICIBANK</td>\n",
              "      <td>EQ</td>\n",
              "      <td>69.50</td>\n",
              "      <td>71.00</td>\n",
              "      <td>74.00</td>\n",
              "      <td>69.55</td>\n",
              "      <td>69.75</td>\n",
              "      <td>70.05</td>\n",
              "      <td>72.04</td>\n",
              "      <td>275149</td>\n",
              "      <td>1.982120e+12</td>\n",
              "      <td>NaN</td>\n",
              "      <td>NaN</td>\n",
              "      <td>NaN</td>\n",
              "    </tr>\n",
              "    <tr>\n",
              "      <th>4</th>\n",
              "      <td>07-01-2000</td>\n",
              "      <td>ICICIBANK</td>\n",
              "      <td>EQ</td>\n",
              "      <td>70.05</td>\n",
              "      <td>69.00</td>\n",
              "      <td>72.50</td>\n",
              "      <td>66.00</td>\n",
              "      <td>67.00</td>\n",
              "      <td>67.40</td>\n",
              "      <td>68.72</td>\n",
              "      <td>138809</td>\n",
              "      <td>9.538880e+11</td>\n",
              "      <td>NaN</td>\n",
              "      <td>NaN</td>\n",
              "      <td>NaN</td>\n",
              "    </tr>\n",
              "    <tr>\n",
              "      <th>5</th>\n",
              "      <td>10-01-2000</td>\n",
              "      <td>ICICIBANK</td>\n",
              "      <td>EQ</td>\n",
              "      <td>67.40</td>\n",
              "      <td>67.00</td>\n",
              "      <td>71.00</td>\n",
              "      <td>67.00</td>\n",
              "      <td>70.00</td>\n",
              "      <td>69.90</td>\n",
              "      <td>69.78</td>\n",
              "      <td>249656</td>\n",
              "      <td>1.742090e+12</td>\n",
              "      <td>NaN</td>\n",
              "      <td>NaN</td>\n",
              "      <td>NaN</td>\n",
              "    </tr>\n",
              "    <tr>\n",
              "      <th>6</th>\n",
              "      <td>11-01-2000</td>\n",
              "      <td>ICICIBANK</td>\n",
              "      <td>EQ</td>\n",
              "      <td>69.90</td>\n",
              "      <td>69.15</td>\n",
              "      <td>70.45</td>\n",
              "      <td>66.10</td>\n",
              "      <td>69.00</td>\n",
              "      <td>69.35</td>\n",
              "      <td>68.89</td>\n",
              "      <td>307601</td>\n",
              "      <td>2.119120e+12</td>\n",
              "      <td>NaN</td>\n",
              "      <td>NaN</td>\n",
              "      <td>NaN</td>\n",
              "    </tr>\n",
              "    <tr>\n",
              "      <th>7</th>\n",
              "      <td>12-01-2000</td>\n",
              "      <td>ICICIBANK</td>\n",
              "      <td>EQ</td>\n",
              "      <td>69.35</td>\n",
              "      <td>69.00</td>\n",
              "      <td>74.90</td>\n",
              "      <td>69.00</td>\n",
              "      <td>74.90</td>\n",
              "      <td>74.90</td>\n",
              "      <td>74.35</td>\n",
              "      <td>88395</td>\n",
              "      <td>6.572220e+11</td>\n",
              "      <td>NaN</td>\n",
              "      <td>NaN</td>\n",
              "      <td>NaN</td>\n",
              "    </tr>\n",
              "    <tr>\n",
              "      <th>8</th>\n",
              "      <td>13-01-2000</td>\n",
              "      <td>ICICIBANK</td>\n",
              "      <td>EQ</td>\n",
              "      <td>74.90</td>\n",
              "      <td>80.00</td>\n",
              "      <td>80.90</td>\n",
              "      <td>78.00</td>\n",
              "      <td>79.00</td>\n",
              "      <td>79.35</td>\n",
              "      <td>80.43</td>\n",
              "      <td>494679</td>\n",
              "      <td>3.978940e+12</td>\n",
              "      <td>NaN</td>\n",
              "      <td>NaN</td>\n",
              "      <td>NaN</td>\n",
              "    </tr>\n",
              "    <tr>\n",
              "      <th>9</th>\n",
              "      <td>14-01-2000</td>\n",
              "      <td>ICICIBANK</td>\n",
              "      <td>EQ</td>\n",
              "      <td>79.35</td>\n",
              "      <td>78.00</td>\n",
              "      <td>80.80</td>\n",
              "      <td>75.00</td>\n",
              "      <td>80.05</td>\n",
              "      <td>79.00</td>\n",
              "      <td>78.15</td>\n",
              "      <td>703072</td>\n",
              "      <td>5.494430e+12</td>\n",
              "      <td>NaN</td>\n",
              "      <td>NaN</td>\n",
              "      <td>NaN</td>\n",
              "    </tr>\n",
              "  </tbody>\n",
              "</table>\n",
              "</div>"
            ],
            "text/plain": [
              "         Date     Symbol Series  ...  Trades  Deliverable Volume  %Deliverble\n",
              "0  03-01-2000  ICICIBANK     EQ  ...     NaN                 NaN          NaN\n",
              "1  04-01-2000  ICICIBANK     EQ  ...     NaN                 NaN          NaN\n",
              "2  05-01-2000  ICICIBANK     EQ  ...     NaN                 NaN          NaN\n",
              "3  06-01-2000  ICICIBANK     EQ  ...     NaN                 NaN          NaN\n",
              "4  07-01-2000  ICICIBANK     EQ  ...     NaN                 NaN          NaN\n",
              "5  10-01-2000  ICICIBANK     EQ  ...     NaN                 NaN          NaN\n",
              "6  11-01-2000  ICICIBANK     EQ  ...     NaN                 NaN          NaN\n",
              "7  12-01-2000  ICICIBANK     EQ  ...     NaN                 NaN          NaN\n",
              "8  13-01-2000  ICICIBANK     EQ  ...     NaN                 NaN          NaN\n",
              "9  14-01-2000  ICICIBANK     EQ  ...     NaN                 NaN          NaN\n",
              "\n",
              "[10 rows x 15 columns]"
            ]
          },
          "metadata": {},
          "execution_count": 10
        }
      ]
    },
    {
      "cell_type": "code",
      "metadata": {
        "colab": {
          "base_uri": "https://localhost:8080/",
          "height": 359
        },
        "id": "VZ7Shc3j4d4W",
        "outputId": "66ca17d4-d590-4372-90a7-2e2aeaf31b9c"
      },
      "source": [
        "data.tail(6)"
      ],
      "execution_count": null,
      "outputs": [
        {
          "output_type": "execute_result",
          "data": {
            "text/html": [
              "<div>\n",
              "<style scoped>\n",
              "    .dataframe tbody tr th:only-of-type {\n",
              "        vertical-align: middle;\n",
              "    }\n",
              "\n",
              "    .dataframe tbody tr th {\n",
              "        vertical-align: top;\n",
              "    }\n",
              "\n",
              "    .dataframe thead th {\n",
              "        text-align: right;\n",
              "    }\n",
              "</style>\n",
              "<table border=\"1\" class=\"dataframe\">\n",
              "  <thead>\n",
              "    <tr style=\"text-align: right;\">\n",
              "      <th></th>\n",
              "      <th>Date</th>\n",
              "      <th>Symbol</th>\n",
              "      <th>Series</th>\n",
              "      <th>Prev Close</th>\n",
              "      <th>Open</th>\n",
              "      <th>High</th>\n",
              "      <th>Low</th>\n",
              "      <th>Last</th>\n",
              "      <th>Close</th>\n",
              "      <th>VWAP</th>\n",
              "      <th>Volume</th>\n",
              "      <th>Turnover</th>\n",
              "      <th>Trades</th>\n",
              "      <th>Deliverable Volume</th>\n",
              "      <th>%Deliverble</th>\n",
              "    </tr>\n",
              "  </thead>\n",
              "  <tbody>\n",
              "    <tr>\n",
              "      <th>5300</th>\n",
              "      <td>23-04-2021</td>\n",
              "      <td>ICICIBANK</td>\n",
              "      <td>EQ</td>\n",
              "      <td>579.20</td>\n",
              "      <td>569.90</td>\n",
              "      <td>580.50</td>\n",
              "      <td>567.05</td>\n",
              "      <td>567.5</td>\n",
              "      <td>569.95</td>\n",
              "      <td>572.81</td>\n",
              "      <td>33749097</td>\n",
              "      <td>1.933170e+15</td>\n",
              "      <td>364665.0</td>\n",
              "      <td>10861229.0</td>\n",
              "      <td>0.3218</td>\n",
              "    </tr>\n",
              "    <tr>\n",
              "      <th>5301</th>\n",
              "      <td>26-04-2021</td>\n",
              "      <td>ICICIBANK</td>\n",
              "      <td>EQ</td>\n",
              "      <td>569.95</td>\n",
              "      <td>602.00</td>\n",
              "      <td>605.50</td>\n",
              "      <td>588.00</td>\n",
              "      <td>588.7</td>\n",
              "      <td>591.10</td>\n",
              "      <td>596.22</td>\n",
              "      <td>62584522</td>\n",
              "      <td>3.731430e+15</td>\n",
              "      <td>546696.0</td>\n",
              "      <td>16913351.0</td>\n",
              "      <td>0.2702</td>\n",
              "    </tr>\n",
              "    <tr>\n",
              "      <th>5302</th>\n",
              "      <td>27-04-2021</td>\n",
              "      <td>ICICIBANK</td>\n",
              "      <td>EQ</td>\n",
              "      <td>591.10</td>\n",
              "      <td>593.25</td>\n",
              "      <td>601.95</td>\n",
              "      <td>591.10</td>\n",
              "      <td>599.0</td>\n",
              "      <td>598.75</td>\n",
              "      <td>597.63</td>\n",
              "      <td>24239685</td>\n",
              "      <td>1.448630e+15</td>\n",
              "      <td>233412.0</td>\n",
              "      <td>9056247.0</td>\n",
              "      <td>0.3736</td>\n",
              "    </tr>\n",
              "    <tr>\n",
              "      <th>5303</th>\n",
              "      <td>28-04-2021</td>\n",
              "      <td>ICICIBANK</td>\n",
              "      <td>EQ</td>\n",
              "      <td>598.75</td>\n",
              "      <td>598.00</td>\n",
              "      <td>622.80</td>\n",
              "      <td>598.00</td>\n",
              "      <td>619.7</td>\n",
              "      <td>621.35</td>\n",
              "      <td>612.57</td>\n",
              "      <td>33292864</td>\n",
              "      <td>2.039420e+15</td>\n",
              "      <td>295406.0</td>\n",
              "      <td>14011476.0</td>\n",
              "      <td>0.4209</td>\n",
              "    </tr>\n",
              "    <tr>\n",
              "      <th>5304</th>\n",
              "      <td>29-04-2021</td>\n",
              "      <td>ICICIBANK</td>\n",
              "      <td>EQ</td>\n",
              "      <td>621.35</td>\n",
              "      <td>622.55</td>\n",
              "      <td>628.45</td>\n",
              "      <td>609.00</td>\n",
              "      <td>621.0</td>\n",
              "      <td>621.45</td>\n",
              "      <td>619.55</td>\n",
              "      <td>34537860</td>\n",
              "      <td>2.139790e+15</td>\n",
              "      <td>304029.0</td>\n",
              "      <td>10324897.0</td>\n",
              "      <td>0.2989</td>\n",
              "    </tr>\n",
              "    <tr>\n",
              "      <th>5305</th>\n",
              "      <td>30-04-2021</td>\n",
              "      <td>ICICIBANK</td>\n",
              "      <td>EQ</td>\n",
              "      <td>621.45</td>\n",
              "      <td>610.10</td>\n",
              "      <td>616.35</td>\n",
              "      <td>598.10</td>\n",
              "      <td>599.7</td>\n",
              "      <td>600.50</td>\n",
              "      <td>607.02</td>\n",
              "      <td>23653258</td>\n",
              "      <td>1.435800e+15</td>\n",
              "      <td>247055.0</td>\n",
              "      <td>7292392.0</td>\n",
              "      <td>0.3083</td>\n",
              "    </tr>\n",
              "  </tbody>\n",
              "</table>\n",
              "</div>"
            ],
            "text/plain": [
              "            Date     Symbol Series  ...    Trades  Deliverable Volume  %Deliverble\n",
              "5300  23-04-2021  ICICIBANK     EQ  ...  364665.0          10861229.0       0.3218\n",
              "5301  26-04-2021  ICICIBANK     EQ  ...  546696.0          16913351.0       0.2702\n",
              "5302  27-04-2021  ICICIBANK     EQ  ...  233412.0           9056247.0       0.3736\n",
              "5303  28-04-2021  ICICIBANK     EQ  ...  295406.0          14011476.0       0.4209\n",
              "5304  29-04-2021  ICICIBANK     EQ  ...  304029.0          10324897.0       0.2989\n",
              "5305  30-04-2021  ICICIBANK     EQ  ...  247055.0           7292392.0       0.3083\n",
              "\n",
              "[6 rows x 15 columns]"
            ]
          },
          "metadata": {},
          "execution_count": 11
        }
      ]
    },
    {
      "cell_type": "code",
      "metadata": {
        "colab": {
          "base_uri": "https://localhost:8080/"
        },
        "id": "Bk-oG5gB6wmS",
        "outputId": "c6d5fd37-36af-49da-afb9-bb40d08a7b80"
      },
      "source": [
        "df.dtypes"
      ],
      "execution_count": null,
      "outputs": [
        {
          "output_type": "execute_result",
          "data": {
            "text/plain": [
              "Date                   object\n",
              "Symbol                 object\n",
              "Series                 object\n",
              "Prev Close            float64\n",
              "Open                  float64\n",
              "High                  float64\n",
              "Low                   float64\n",
              "Last                  float64\n",
              "Close                 float64\n",
              "VWAP                  float64\n",
              "Volume                  int64\n",
              "Turnover              float64\n",
              "Trades                float64\n",
              "Deliverable Volume    float64\n",
              "%Deliverble           float64\n",
              "dtype: object"
            ]
          },
          "metadata": {},
          "execution_count": 12
        }
      ]
    },
    {
      "cell_type": "code",
      "metadata": {
        "colab": {
          "base_uri": "https://localhost:8080/"
        },
        "id": "HEp0pRh14jtQ",
        "outputId": "58e8a71f-e84a-4b74-f68b-72cdb0063e55"
      },
      "source": [
        "print(df.shape)\n",
        "print(df.size)"
      ],
      "execution_count": null,
      "outputs": [
        {
          "output_type": "stream",
          "name": "stdout",
          "text": [
            "(5306, 15)\n",
            "79590\n"
          ]
        }
      ]
    },
    {
      "cell_type": "code",
      "metadata": {
        "colab": {
          "base_uri": "https://localhost:8080/"
        },
        "id": "SCmVX2U85O2x",
        "outputId": "62100790-dd40-4d53-835a-98a27ce3fbaf"
      },
      "source": [
        "df.keys()"
      ],
      "execution_count": null,
      "outputs": [
        {
          "output_type": "execute_result",
          "data": {
            "text/plain": [
              "Index(['Date', 'Symbol', 'Series', 'Prev Close', 'Open', 'High', 'Low', 'Last',\n",
              "       'Close', 'VWAP', 'Volume', 'Turnover', 'Trades', 'Deliverable Volume',\n",
              "       '%Deliverble'],\n",
              "      dtype='object')"
            ]
          },
          "metadata": {},
          "execution_count": 14
        }
      ]
    },
    {
      "cell_type": "code",
      "metadata": {
        "colab": {
          "base_uri": "https://localhost:8080/",
          "height": 423
        },
        "id": "qgyvbSTM5aqe",
        "outputId": "980cdd3a-d61c-46d8-b940-b137784822c7"
      },
      "source": [
        "df.isnull()"
      ],
      "execution_count": null,
      "outputs": [
        {
          "output_type": "execute_result",
          "data": {
            "text/html": [
              "<div>\n",
              "<style scoped>\n",
              "    .dataframe tbody tr th:only-of-type {\n",
              "        vertical-align: middle;\n",
              "    }\n",
              "\n",
              "    .dataframe tbody tr th {\n",
              "        vertical-align: top;\n",
              "    }\n",
              "\n",
              "    .dataframe thead th {\n",
              "        text-align: right;\n",
              "    }\n",
              "</style>\n",
              "<table border=\"1\" class=\"dataframe\">\n",
              "  <thead>\n",
              "    <tr style=\"text-align: right;\">\n",
              "      <th></th>\n",
              "      <th>Date</th>\n",
              "      <th>Symbol</th>\n",
              "      <th>Series</th>\n",
              "      <th>Prev Close</th>\n",
              "      <th>Open</th>\n",
              "      <th>High</th>\n",
              "      <th>Low</th>\n",
              "      <th>Last</th>\n",
              "      <th>Close</th>\n",
              "      <th>VWAP</th>\n",
              "      <th>Volume</th>\n",
              "      <th>Turnover</th>\n",
              "      <th>Trades</th>\n",
              "      <th>Deliverable Volume</th>\n",
              "      <th>%Deliverble</th>\n",
              "    </tr>\n",
              "  </thead>\n",
              "  <tbody>\n",
              "    <tr>\n",
              "      <th>0</th>\n",
              "      <td>False</td>\n",
              "      <td>False</td>\n",
              "      <td>False</td>\n",
              "      <td>False</td>\n",
              "      <td>False</td>\n",
              "      <td>False</td>\n",
              "      <td>False</td>\n",
              "      <td>False</td>\n",
              "      <td>False</td>\n",
              "      <td>False</td>\n",
              "      <td>False</td>\n",
              "      <td>False</td>\n",
              "      <td>True</td>\n",
              "      <td>True</td>\n",
              "      <td>True</td>\n",
              "    </tr>\n",
              "    <tr>\n",
              "      <th>1</th>\n",
              "      <td>False</td>\n",
              "      <td>False</td>\n",
              "      <td>False</td>\n",
              "      <td>False</td>\n",
              "      <td>False</td>\n",
              "      <td>False</td>\n",
              "      <td>False</td>\n",
              "      <td>False</td>\n",
              "      <td>False</td>\n",
              "      <td>False</td>\n",
              "      <td>False</td>\n",
              "      <td>False</td>\n",
              "      <td>True</td>\n",
              "      <td>True</td>\n",
              "      <td>True</td>\n",
              "    </tr>\n",
              "    <tr>\n",
              "      <th>2</th>\n",
              "      <td>False</td>\n",
              "      <td>False</td>\n",
              "      <td>False</td>\n",
              "      <td>False</td>\n",
              "      <td>False</td>\n",
              "      <td>False</td>\n",
              "      <td>False</td>\n",
              "      <td>False</td>\n",
              "      <td>False</td>\n",
              "      <td>False</td>\n",
              "      <td>False</td>\n",
              "      <td>False</td>\n",
              "      <td>True</td>\n",
              "      <td>True</td>\n",
              "      <td>True</td>\n",
              "    </tr>\n",
              "    <tr>\n",
              "      <th>3</th>\n",
              "      <td>False</td>\n",
              "      <td>False</td>\n",
              "      <td>False</td>\n",
              "      <td>False</td>\n",
              "      <td>False</td>\n",
              "      <td>False</td>\n",
              "      <td>False</td>\n",
              "      <td>False</td>\n",
              "      <td>False</td>\n",
              "      <td>False</td>\n",
              "      <td>False</td>\n",
              "      <td>False</td>\n",
              "      <td>True</td>\n",
              "      <td>True</td>\n",
              "      <td>True</td>\n",
              "    </tr>\n",
              "    <tr>\n",
              "      <th>4</th>\n",
              "      <td>False</td>\n",
              "      <td>False</td>\n",
              "      <td>False</td>\n",
              "      <td>False</td>\n",
              "      <td>False</td>\n",
              "      <td>False</td>\n",
              "      <td>False</td>\n",
              "      <td>False</td>\n",
              "      <td>False</td>\n",
              "      <td>False</td>\n",
              "      <td>False</td>\n",
              "      <td>False</td>\n",
              "      <td>True</td>\n",
              "      <td>True</td>\n",
              "      <td>True</td>\n",
              "    </tr>\n",
              "    <tr>\n",
              "      <th>...</th>\n",
              "      <td>...</td>\n",
              "      <td>...</td>\n",
              "      <td>...</td>\n",
              "      <td>...</td>\n",
              "      <td>...</td>\n",
              "      <td>...</td>\n",
              "      <td>...</td>\n",
              "      <td>...</td>\n",
              "      <td>...</td>\n",
              "      <td>...</td>\n",
              "      <td>...</td>\n",
              "      <td>...</td>\n",
              "      <td>...</td>\n",
              "      <td>...</td>\n",
              "      <td>...</td>\n",
              "    </tr>\n",
              "    <tr>\n",
              "      <th>5301</th>\n",
              "      <td>False</td>\n",
              "      <td>False</td>\n",
              "      <td>False</td>\n",
              "      <td>False</td>\n",
              "      <td>False</td>\n",
              "      <td>False</td>\n",
              "      <td>False</td>\n",
              "      <td>False</td>\n",
              "      <td>False</td>\n",
              "      <td>False</td>\n",
              "      <td>False</td>\n",
              "      <td>False</td>\n",
              "      <td>False</td>\n",
              "      <td>False</td>\n",
              "      <td>False</td>\n",
              "    </tr>\n",
              "    <tr>\n",
              "      <th>5302</th>\n",
              "      <td>False</td>\n",
              "      <td>False</td>\n",
              "      <td>False</td>\n",
              "      <td>False</td>\n",
              "      <td>False</td>\n",
              "      <td>False</td>\n",
              "      <td>False</td>\n",
              "      <td>False</td>\n",
              "      <td>False</td>\n",
              "      <td>False</td>\n",
              "      <td>False</td>\n",
              "      <td>False</td>\n",
              "      <td>False</td>\n",
              "      <td>False</td>\n",
              "      <td>False</td>\n",
              "    </tr>\n",
              "    <tr>\n",
              "      <th>5303</th>\n",
              "      <td>False</td>\n",
              "      <td>False</td>\n",
              "      <td>False</td>\n",
              "      <td>False</td>\n",
              "      <td>False</td>\n",
              "      <td>False</td>\n",
              "      <td>False</td>\n",
              "      <td>False</td>\n",
              "      <td>False</td>\n",
              "      <td>False</td>\n",
              "      <td>False</td>\n",
              "      <td>False</td>\n",
              "      <td>False</td>\n",
              "      <td>False</td>\n",
              "      <td>False</td>\n",
              "    </tr>\n",
              "    <tr>\n",
              "      <th>5304</th>\n",
              "      <td>False</td>\n",
              "      <td>False</td>\n",
              "      <td>False</td>\n",
              "      <td>False</td>\n",
              "      <td>False</td>\n",
              "      <td>False</td>\n",
              "      <td>False</td>\n",
              "      <td>False</td>\n",
              "      <td>False</td>\n",
              "      <td>False</td>\n",
              "      <td>False</td>\n",
              "      <td>False</td>\n",
              "      <td>False</td>\n",
              "      <td>False</td>\n",
              "      <td>False</td>\n",
              "    </tr>\n",
              "    <tr>\n",
              "      <th>5305</th>\n",
              "      <td>False</td>\n",
              "      <td>False</td>\n",
              "      <td>False</td>\n",
              "      <td>False</td>\n",
              "      <td>False</td>\n",
              "      <td>False</td>\n",
              "      <td>False</td>\n",
              "      <td>False</td>\n",
              "      <td>False</td>\n",
              "      <td>False</td>\n",
              "      <td>False</td>\n",
              "      <td>False</td>\n",
              "      <td>False</td>\n",
              "      <td>False</td>\n",
              "      <td>False</td>\n",
              "    </tr>\n",
              "  </tbody>\n",
              "</table>\n",
              "<p>5306 rows × 15 columns</p>\n",
              "</div>"
            ],
            "text/plain": [
              "       Date  Symbol  Series  ...  Trades  Deliverable Volume  %Deliverble\n",
              "0     False   False   False  ...    True                True         True\n",
              "1     False   False   False  ...    True                True         True\n",
              "2     False   False   False  ...    True                True         True\n",
              "3     False   False   False  ...    True                True         True\n",
              "4     False   False   False  ...    True                True         True\n",
              "...     ...     ...     ...  ...     ...                 ...          ...\n",
              "5301  False   False   False  ...   False               False        False\n",
              "5302  False   False   False  ...   False               False        False\n",
              "5303  False   False   False  ...   False               False        False\n",
              "5304  False   False   False  ...   False               False        False\n",
              "5305  False   False   False  ...   False               False        False\n",
              "\n",
              "[5306 rows x 15 columns]"
            ]
          },
          "metadata": {},
          "execution_count": 15
        }
      ]
    },
    {
      "cell_type": "code",
      "metadata": {
        "colab": {
          "base_uri": "https://localhost:8080/",
          "height": 337
        },
        "id": "8IvfdgiI6MQP",
        "outputId": "359f7975-d722-4783-d74b-a7f0d352c9fc"
      },
      "source": [
        "df.describe()"
      ],
      "execution_count": null,
      "outputs": [
        {
          "output_type": "execute_result",
          "data": {
            "text/html": [
              "<div>\n",
              "<style scoped>\n",
              "    .dataframe tbody tr th:only-of-type {\n",
              "        vertical-align: middle;\n",
              "    }\n",
              "\n",
              "    .dataframe tbody tr th {\n",
              "        vertical-align: top;\n",
              "    }\n",
              "\n",
              "    .dataframe thead th {\n",
              "        text-align: right;\n",
              "    }\n",
              "</style>\n",
              "<table border=\"1\" class=\"dataframe\">\n",
              "  <thead>\n",
              "    <tr style=\"text-align: right;\">\n",
              "      <th></th>\n",
              "      <th>Prev Close</th>\n",
              "      <th>Open</th>\n",
              "      <th>High</th>\n",
              "      <th>Low</th>\n",
              "      <th>Last</th>\n",
              "      <th>Close</th>\n",
              "      <th>VWAP</th>\n",
              "      <th>Volume</th>\n",
              "      <th>Turnover</th>\n",
              "      <th>Trades</th>\n",
              "      <th>Deliverable Volume</th>\n",
              "      <th>%Deliverble</th>\n",
              "    </tr>\n",
              "  </thead>\n",
              "  <tbody>\n",
              "    <tr>\n",
              "      <th>count</th>\n",
              "      <td>5306.000000</td>\n",
              "      <td>5306.000000</td>\n",
              "      <td>5306.000000</td>\n",
              "      <td>5306.000000</td>\n",
              "      <td>5306.000000</td>\n",
              "      <td>5306.000000</td>\n",
              "      <td>5306.000000</td>\n",
              "      <td>5.306000e+03</td>\n",
              "      <td>5.306000e+03</td>\n",
              "      <td>2456.000000</td>\n",
              "      <td>4.789000e+03</td>\n",
              "      <td>4789.000000</td>\n",
              "    </tr>\n",
              "    <tr>\n",
              "      <th>mean</th>\n",
              "      <td>550.895392</td>\n",
              "      <td>551.558538</td>\n",
              "      <td>560.558556</td>\n",
              "      <td>541.534197</td>\n",
              "      <td>551.050980</td>\n",
              "      <td>550.995524</td>\n",
              "      <td>551.129031</td>\n",
              "      <td>8.224631e+06</td>\n",
              "      <td>3.759299e+14</td>\n",
              "      <td>138367.627443</td>\n",
              "      <td>4.183406e+06</td>\n",
              "      <td>0.473463</td>\n",
              "    </tr>\n",
              "    <tr>\n",
              "      <th>std</th>\n",
              "      <td>368.784064</td>\n",
              "      <td>368.890953</td>\n",
              "      <td>374.079697</td>\n",
              "      <td>363.389664</td>\n",
              "      <td>368.705647</td>\n",
              "      <td>368.725374</td>\n",
              "      <td>368.746905</td>\n",
              "      <td>1.218535e+07</td>\n",
              "      <td>4.758133e+14</td>\n",
              "      <td>99008.729009</td>\n",
              "      <td>6.365382e+06</td>\n",
              "      <td>0.131495</td>\n",
              "    </tr>\n",
              "    <tr>\n",
              "      <th>min</th>\n",
              "      <td>67.400000</td>\n",
              "      <td>67.000000</td>\n",
              "      <td>70.450000</td>\n",
              "      <td>66.000000</td>\n",
              "      <td>67.000000</td>\n",
              "      <td>67.400000</td>\n",
              "      <td>68.520000</td>\n",
              "      <td>7.409000e+03</td>\n",
              "      <td>9.617283e+10</td>\n",
              "      <td>2595.000000</td>\n",
              "      <td>1.501500e+04</td>\n",
              "      <td>0.099000</td>\n",
              "    </tr>\n",
              "    <tr>\n",
              "      <th>25%</th>\n",
              "      <td>267.562500</td>\n",
              "      <td>267.400000</td>\n",
              "      <td>271.912500</td>\n",
              "      <td>263.625000</td>\n",
              "      <td>267.400000</td>\n",
              "      <td>267.612500</td>\n",
              "      <td>267.577500</td>\n",
              "      <td>9.612055e+05</td>\n",
              "      <td>3.459442e+13</td>\n",
              "      <td>79312.250000</td>\n",
              "      <td>6.995020e+05</td>\n",
              "      <td>0.384300</td>\n",
              "    </tr>\n",
              "    <tr>\n",
              "      <th>50%</th>\n",
              "      <td>398.075000</td>\n",
              "      <td>399.000000</td>\n",
              "      <td>406.525000</td>\n",
              "      <td>392.450000</td>\n",
              "      <td>398.700000</td>\n",
              "      <td>398.175000</td>\n",
              "      <td>398.235000</td>\n",
              "      <td>3.486648e+06</td>\n",
              "      <td>2.923010e+14</td>\n",
              "      <td>110101.000000</td>\n",
              "      <td>1.963117e+06</td>\n",
              "      <td>0.476400</td>\n",
              "    </tr>\n",
              "    <tr>\n",
              "      <th>75%</th>\n",
              "      <td>873.562500</td>\n",
              "      <td>877.000000</td>\n",
              "      <td>888.775000</td>\n",
              "      <td>859.800000</td>\n",
              "      <td>874.600000</td>\n",
              "      <td>873.562500</td>\n",
              "      <td>873.510000</td>\n",
              "      <td>1.157202e+07</td>\n",
              "      <td>4.993528e+14</td>\n",
              "      <td>162953.500000</td>\n",
              "      <td>5.948817e+06</td>\n",
              "      <td>0.564100</td>\n",
              "    </tr>\n",
              "    <tr>\n",
              "      <th>max</th>\n",
              "      <td>1794.100000</td>\n",
              "      <td>1767.050000</td>\n",
              "      <td>1798.150000</td>\n",
              "      <td>1760.150000</td>\n",
              "      <td>1793.000000</td>\n",
              "      <td>1794.100000</td>\n",
              "      <td>1783.460000</td>\n",
              "      <td>2.868577e+08</td>\n",
              "      <td>1.460000e+16</td>\n",
              "      <td>949891.000000</td>\n",
              "      <td>2.325307e+08</td>\n",
              "      <td>0.983000</td>\n",
              "    </tr>\n",
              "  </tbody>\n",
              "</table>\n",
              "</div>"
            ],
            "text/plain": [
              "        Prev Close         Open  ...  Deliverable Volume  %Deliverble\n",
              "count  5306.000000  5306.000000  ...        4.789000e+03  4789.000000\n",
              "mean    550.895392   551.558538  ...        4.183406e+06     0.473463\n",
              "std     368.784064   368.890953  ...        6.365382e+06     0.131495\n",
              "min      67.400000    67.000000  ...        1.501500e+04     0.099000\n",
              "25%     267.562500   267.400000  ...        6.995020e+05     0.384300\n",
              "50%     398.075000   399.000000  ...        1.963117e+06     0.476400\n",
              "75%     873.562500   877.000000  ...        5.948817e+06     0.564100\n",
              "max    1794.100000  1767.050000  ...        2.325307e+08     0.983000\n",
              "\n",
              "[8 rows x 12 columns]"
            ]
          },
          "metadata": {},
          "execution_count": 16
        }
      ]
    },
    {
      "cell_type": "code",
      "metadata": {
        "colab": {
          "base_uri": "https://localhost:8080/"
        },
        "id": "EwB42P366ZkD",
        "outputId": "f5bf9a2d-47bb-4d54-da55-276d0b6a6b76"
      },
      "source": [
        "df.duplicated()"
      ],
      "execution_count": null,
      "outputs": [
        {
          "output_type": "execute_result",
          "data": {
            "text/plain": [
              "0       False\n",
              "1       False\n",
              "2       False\n",
              "3       False\n",
              "4       False\n",
              "        ...  \n",
              "5301    False\n",
              "5302    False\n",
              "5303    False\n",
              "5304    False\n",
              "5305    False\n",
              "Length: 5306, dtype: bool"
            ]
          },
          "metadata": {},
          "execution_count": 17
        }
      ]
    },
    {
      "cell_type": "code",
      "metadata": {
        "colab": {
          "base_uri": "https://localhost:8080/",
          "height": 614
        },
        "id": "_DUYHxTN6eDs",
        "outputId": "978405e2-5ce9-4f46-fbd4-0413917a8a1c"
      },
      "source": [
        "df.drop_duplicates()"
      ],
      "execution_count": null,
      "outputs": [
        {
          "output_type": "execute_result",
          "data": {
            "text/html": [
              "<div>\n",
              "<style scoped>\n",
              "    .dataframe tbody tr th:only-of-type {\n",
              "        vertical-align: middle;\n",
              "    }\n",
              "\n",
              "    .dataframe tbody tr th {\n",
              "        vertical-align: top;\n",
              "    }\n",
              "\n",
              "    .dataframe thead th {\n",
              "        text-align: right;\n",
              "    }\n",
              "</style>\n",
              "<table border=\"1\" class=\"dataframe\">\n",
              "  <thead>\n",
              "    <tr style=\"text-align: right;\">\n",
              "      <th></th>\n",
              "      <th>Date</th>\n",
              "      <th>Symbol</th>\n",
              "      <th>Series</th>\n",
              "      <th>Prev Close</th>\n",
              "      <th>Open</th>\n",
              "      <th>High</th>\n",
              "      <th>Low</th>\n",
              "      <th>Last</th>\n",
              "      <th>Close</th>\n",
              "      <th>VWAP</th>\n",
              "      <th>Volume</th>\n",
              "      <th>Turnover</th>\n",
              "      <th>Trades</th>\n",
              "      <th>Deliverable Volume</th>\n",
              "      <th>%Deliverble</th>\n",
              "    </tr>\n",
              "  </thead>\n",
              "  <tbody>\n",
              "    <tr>\n",
              "      <th>0</th>\n",
              "      <td>03-01-2000</td>\n",
              "      <td>ICICIBANK</td>\n",
              "      <td>EQ</td>\n",
              "      <td>69.20</td>\n",
              "      <td>74.35</td>\n",
              "      <td>74.75</td>\n",
              "      <td>71.40</td>\n",
              "      <td>74.75</td>\n",
              "      <td>74.75</td>\n",
              "      <td>73.20</td>\n",
              "      <td>286260</td>\n",
              "      <td>2.095440e+12</td>\n",
              "      <td>NaN</td>\n",
              "      <td>NaN</td>\n",
              "      <td>NaN</td>\n",
              "    </tr>\n",
              "    <tr>\n",
              "      <th>1</th>\n",
              "      <td>04-01-2000</td>\n",
              "      <td>ICICIBANK</td>\n",
              "      <td>EQ</td>\n",
              "      <td>74.75</td>\n",
              "      <td>73.05</td>\n",
              "      <td>78.50</td>\n",
              "      <td>71.00</td>\n",
              "      <td>73.25</td>\n",
              "      <td>73.05</td>\n",
              "      <td>73.38</td>\n",
              "      <td>296264</td>\n",
              "      <td>2.173890e+12</td>\n",
              "      <td>NaN</td>\n",
              "      <td>NaN</td>\n",
              "      <td>NaN</td>\n",
              "    </tr>\n",
              "    <tr>\n",
              "      <th>2</th>\n",
              "      <td>05-01-2000</td>\n",
              "      <td>ICICIBANK</td>\n",
              "      <td>EQ</td>\n",
              "      <td>73.05</td>\n",
              "      <td>70.00</td>\n",
              "      <td>73.50</td>\n",
              "      <td>67.50</td>\n",
              "      <td>70.00</td>\n",
              "      <td>69.50</td>\n",
              "      <td>70.85</td>\n",
              "      <td>227624</td>\n",
              "      <td>1.612790e+12</td>\n",
              "      <td>NaN</td>\n",
              "      <td>NaN</td>\n",
              "      <td>NaN</td>\n",
              "    </tr>\n",
              "    <tr>\n",
              "      <th>3</th>\n",
              "      <td>06-01-2000</td>\n",
              "      <td>ICICIBANK</td>\n",
              "      <td>EQ</td>\n",
              "      <td>69.50</td>\n",
              "      <td>71.00</td>\n",
              "      <td>74.00</td>\n",
              "      <td>69.55</td>\n",
              "      <td>69.75</td>\n",
              "      <td>70.05</td>\n",
              "      <td>72.04</td>\n",
              "      <td>275149</td>\n",
              "      <td>1.982120e+12</td>\n",
              "      <td>NaN</td>\n",
              "      <td>NaN</td>\n",
              "      <td>NaN</td>\n",
              "    </tr>\n",
              "    <tr>\n",
              "      <th>4</th>\n",
              "      <td>07-01-2000</td>\n",
              "      <td>ICICIBANK</td>\n",
              "      <td>EQ</td>\n",
              "      <td>70.05</td>\n",
              "      <td>69.00</td>\n",
              "      <td>72.50</td>\n",
              "      <td>66.00</td>\n",
              "      <td>67.00</td>\n",
              "      <td>67.40</td>\n",
              "      <td>68.72</td>\n",
              "      <td>138809</td>\n",
              "      <td>9.538880e+11</td>\n",
              "      <td>NaN</td>\n",
              "      <td>NaN</td>\n",
              "      <td>NaN</td>\n",
              "    </tr>\n",
              "    <tr>\n",
              "      <th>...</th>\n",
              "      <td>...</td>\n",
              "      <td>...</td>\n",
              "      <td>...</td>\n",
              "      <td>...</td>\n",
              "      <td>...</td>\n",
              "      <td>...</td>\n",
              "      <td>...</td>\n",
              "      <td>...</td>\n",
              "      <td>...</td>\n",
              "      <td>...</td>\n",
              "      <td>...</td>\n",
              "      <td>...</td>\n",
              "      <td>...</td>\n",
              "      <td>...</td>\n",
              "      <td>...</td>\n",
              "    </tr>\n",
              "    <tr>\n",
              "      <th>5301</th>\n",
              "      <td>26-04-2021</td>\n",
              "      <td>ICICIBANK</td>\n",
              "      <td>EQ</td>\n",
              "      <td>569.95</td>\n",
              "      <td>602.00</td>\n",
              "      <td>605.50</td>\n",
              "      <td>588.00</td>\n",
              "      <td>588.70</td>\n",
              "      <td>591.10</td>\n",
              "      <td>596.22</td>\n",
              "      <td>62584522</td>\n",
              "      <td>3.731430e+15</td>\n",
              "      <td>546696.0</td>\n",
              "      <td>16913351.0</td>\n",
              "      <td>0.2702</td>\n",
              "    </tr>\n",
              "    <tr>\n",
              "      <th>5302</th>\n",
              "      <td>27-04-2021</td>\n",
              "      <td>ICICIBANK</td>\n",
              "      <td>EQ</td>\n",
              "      <td>591.10</td>\n",
              "      <td>593.25</td>\n",
              "      <td>601.95</td>\n",
              "      <td>591.10</td>\n",
              "      <td>599.00</td>\n",
              "      <td>598.75</td>\n",
              "      <td>597.63</td>\n",
              "      <td>24239685</td>\n",
              "      <td>1.448630e+15</td>\n",
              "      <td>233412.0</td>\n",
              "      <td>9056247.0</td>\n",
              "      <td>0.3736</td>\n",
              "    </tr>\n",
              "    <tr>\n",
              "      <th>5303</th>\n",
              "      <td>28-04-2021</td>\n",
              "      <td>ICICIBANK</td>\n",
              "      <td>EQ</td>\n",
              "      <td>598.75</td>\n",
              "      <td>598.00</td>\n",
              "      <td>622.80</td>\n",
              "      <td>598.00</td>\n",
              "      <td>619.70</td>\n",
              "      <td>621.35</td>\n",
              "      <td>612.57</td>\n",
              "      <td>33292864</td>\n",
              "      <td>2.039420e+15</td>\n",
              "      <td>295406.0</td>\n",
              "      <td>14011476.0</td>\n",
              "      <td>0.4209</td>\n",
              "    </tr>\n",
              "    <tr>\n",
              "      <th>5304</th>\n",
              "      <td>29-04-2021</td>\n",
              "      <td>ICICIBANK</td>\n",
              "      <td>EQ</td>\n",
              "      <td>621.35</td>\n",
              "      <td>622.55</td>\n",
              "      <td>628.45</td>\n",
              "      <td>609.00</td>\n",
              "      <td>621.00</td>\n",
              "      <td>621.45</td>\n",
              "      <td>619.55</td>\n",
              "      <td>34537860</td>\n",
              "      <td>2.139790e+15</td>\n",
              "      <td>304029.0</td>\n",
              "      <td>10324897.0</td>\n",
              "      <td>0.2989</td>\n",
              "    </tr>\n",
              "    <tr>\n",
              "      <th>5305</th>\n",
              "      <td>30-04-2021</td>\n",
              "      <td>ICICIBANK</td>\n",
              "      <td>EQ</td>\n",
              "      <td>621.45</td>\n",
              "      <td>610.10</td>\n",
              "      <td>616.35</td>\n",
              "      <td>598.10</td>\n",
              "      <td>599.70</td>\n",
              "      <td>600.50</td>\n",
              "      <td>607.02</td>\n",
              "      <td>23653258</td>\n",
              "      <td>1.435800e+15</td>\n",
              "      <td>247055.0</td>\n",
              "      <td>7292392.0</td>\n",
              "      <td>0.3083</td>\n",
              "    </tr>\n",
              "  </tbody>\n",
              "</table>\n",
              "<p>5306 rows × 15 columns</p>\n",
              "</div>"
            ],
            "text/plain": [
              "            Date     Symbol Series  ...    Trades  Deliverable Volume  %Deliverble\n",
              "0     03-01-2000  ICICIBANK     EQ  ...       NaN                 NaN          NaN\n",
              "1     04-01-2000  ICICIBANK     EQ  ...       NaN                 NaN          NaN\n",
              "2     05-01-2000  ICICIBANK     EQ  ...       NaN                 NaN          NaN\n",
              "3     06-01-2000  ICICIBANK     EQ  ...       NaN                 NaN          NaN\n",
              "4     07-01-2000  ICICIBANK     EQ  ...       NaN                 NaN          NaN\n",
              "...          ...        ...    ...  ...       ...                 ...          ...\n",
              "5301  26-04-2021  ICICIBANK     EQ  ...  546696.0          16913351.0       0.2702\n",
              "5302  27-04-2021  ICICIBANK     EQ  ...  233412.0           9056247.0       0.3736\n",
              "5303  28-04-2021  ICICIBANK     EQ  ...  295406.0          14011476.0       0.4209\n",
              "5304  29-04-2021  ICICIBANK     EQ  ...  304029.0          10324897.0       0.2989\n",
              "5305  30-04-2021  ICICIBANK     EQ  ...  247055.0           7292392.0       0.3083\n",
              "\n",
              "[5306 rows x 15 columns]"
            ]
          },
          "metadata": {},
          "execution_count": 18
        }
      ]
    },
    {
      "cell_type": "code",
      "metadata": {
        "colab": {
          "base_uri": "https://localhost:8080/"
        },
        "id": "XmskQG9y6_de",
        "outputId": "6b5bee93-a722-4ab4-cb11-70cd52d986a7"
      },
      "source": [
        "df.mean()"
      ],
      "execution_count": null,
      "outputs": [
        {
          "output_type": "execute_result",
          "data": {
            "text/plain": [
              "Prev Close            5.508954e+02\n",
              "Open                  5.515585e+02\n",
              "High                  5.605586e+02\n",
              "Low                   5.415342e+02\n",
              "Last                  5.510510e+02\n",
              "Close                 5.509955e+02\n",
              "VWAP                  5.511290e+02\n",
              "Volume                8.224631e+06\n",
              "Turnover              3.759299e+14\n",
              "Trades                1.383676e+05\n",
              "Deliverable Volume    4.183406e+06\n",
              "%Deliverble           4.734630e-01\n",
              "dtype: float64"
            ]
          },
          "metadata": {},
          "execution_count": 32
        }
      ]
    },
    {
      "cell_type": "code",
      "metadata": {
        "colab": {
          "base_uri": "https://localhost:8080/"
        },
        "id": "BOvb7fC67yv7",
        "outputId": "a58c6a21-7dd9-4caa-c7ba-bc78147f07ff"
      },
      "source": [
        "df.median()"
      ],
      "execution_count": null,
      "outputs": [
        {
          "output_type": "execute_result",
          "data": {
            "text/plain": [
              "Prev Close            3.980750e+02\n",
              "Open                  3.990000e+02\n",
              "High                  4.065250e+02\n",
              "Low                   3.924500e+02\n",
              "Last                  3.987000e+02\n",
              "Close                 3.981750e+02\n",
              "VWAP                  3.982350e+02\n",
              "Volume                3.486648e+06\n",
              "Turnover              2.923010e+14\n",
              "Trades                1.101010e+05\n",
              "Deliverable Volume    1.963117e+06\n",
              "%Deliverble           4.764000e-01\n",
              "dtype: float64"
            ]
          },
          "metadata": {},
          "execution_count": 33
        }
      ]
    },
    {
      "cell_type": "code",
      "metadata": {
        "colab": {
          "base_uri": "https://localhost:8080/",
          "height": 614
        },
        "id": "GQaif0Lv71jq",
        "outputId": "2d791022-636b-4c0d-ef93-5185a7325faf"
      },
      "source": [
        "df.mode()"
      ],
      "execution_count": null,
      "outputs": [
        {
          "output_type": "execute_result",
          "data": {
            "text/html": [
              "<div>\n",
              "<style scoped>\n",
              "    .dataframe tbody tr th:only-of-type {\n",
              "        vertical-align: middle;\n",
              "    }\n",
              "\n",
              "    .dataframe tbody tr th {\n",
              "        vertical-align: top;\n",
              "    }\n",
              "\n",
              "    .dataframe thead th {\n",
              "        text-align: right;\n",
              "    }\n",
              "</style>\n",
              "<table border=\"1\" class=\"dataframe\">\n",
              "  <thead>\n",
              "    <tr style=\"text-align: right;\">\n",
              "      <th></th>\n",
              "      <th>Date</th>\n",
              "      <th>Symbol</th>\n",
              "      <th>Series</th>\n",
              "      <th>Prev Close</th>\n",
              "      <th>Open</th>\n",
              "      <th>High</th>\n",
              "      <th>Low</th>\n",
              "      <th>Last</th>\n",
              "      <th>Close</th>\n",
              "      <th>VWAP</th>\n",
              "      <th>Volume</th>\n",
              "      <th>Turnover</th>\n",
              "      <th>Trades</th>\n",
              "      <th>Deliverable Volume</th>\n",
              "      <th>%Deliverble</th>\n",
              "    </tr>\n",
              "  </thead>\n",
              "  <tbody>\n",
              "    <tr>\n",
              "      <th>0</th>\n",
              "      <td>01-01-2001</td>\n",
              "      <td>ICICIBANK</td>\n",
              "      <td>EQ</td>\n",
              "      <td>270.05</td>\n",
              "      <td>142.0</td>\n",
              "      <td>145.0</td>\n",
              "      <td>120.0</td>\n",
              "      <td>140.0</td>\n",
              "      <td>270.05</td>\n",
              "      <td>102.62</td>\n",
              "      <td>66961.0</td>\n",
              "      <td>1.711350e+12</td>\n",
              "      <td>67629.0</td>\n",
              "      <td>165421.0</td>\n",
              "      <td>0.5259</td>\n",
              "    </tr>\n",
              "    <tr>\n",
              "      <th>1</th>\n",
              "      <td>01-01-2002</td>\n",
              "      <td>NaN</td>\n",
              "      <td>NaN</td>\n",
              "      <td>289.30</td>\n",
              "      <td>NaN</td>\n",
              "      <td>NaN</td>\n",
              "      <td>140.0</td>\n",
              "      <td>NaN</td>\n",
              "      <td>289.30</td>\n",
              "      <td>141.77</td>\n",
              "      <td>404216.0</td>\n",
              "      <td>3.203150e+13</td>\n",
              "      <td>86251.0</td>\n",
              "      <td>467007.0</td>\n",
              "      <td>0.5336</td>\n",
              "    </tr>\n",
              "    <tr>\n",
              "      <th>2</th>\n",
              "      <td>01-01-2003</td>\n",
              "      <td>NaN</td>\n",
              "      <td>NaN</td>\n",
              "      <td>NaN</td>\n",
              "      <td>NaN</td>\n",
              "      <td>NaN</td>\n",
              "      <td>148.0</td>\n",
              "      <td>NaN</td>\n",
              "      <td>NaN</td>\n",
              "      <td>261.39</td>\n",
              "      <td>689289.0</td>\n",
              "      <td>3.731630e+13</td>\n",
              "      <td>90450.0</td>\n",
              "      <td>NaN</td>\n",
              "      <td>NaN</td>\n",
              "    </tr>\n",
              "    <tr>\n",
              "      <th>3</th>\n",
              "      <td>01-01-2004</td>\n",
              "      <td>NaN</td>\n",
              "      <td>NaN</td>\n",
              "      <td>NaN</td>\n",
              "      <td>NaN</td>\n",
              "      <td>NaN</td>\n",
              "      <td>NaN</td>\n",
              "      <td>NaN</td>\n",
              "      <td>NaN</td>\n",
              "      <td>286.05</td>\n",
              "      <td>NaN</td>\n",
              "      <td>1.885550e+14</td>\n",
              "      <td>103381.0</td>\n",
              "      <td>NaN</td>\n",
              "      <td>NaN</td>\n",
              "    </tr>\n",
              "    <tr>\n",
              "      <th>4</th>\n",
              "      <td>01-01-2008</td>\n",
              "      <td>NaN</td>\n",
              "      <td>NaN</td>\n",
              "      <td>NaN</td>\n",
              "      <td>NaN</td>\n",
              "      <td>NaN</td>\n",
              "      <td>NaN</td>\n",
              "      <td>NaN</td>\n",
              "      <td>NaN</td>\n",
              "      <td>295.31</td>\n",
              "      <td>NaN</td>\n",
              "      <td>2.336680e+14</td>\n",
              "      <td>103630.0</td>\n",
              "      <td>NaN</td>\n",
              "      <td>NaN</td>\n",
              "    </tr>\n",
              "    <tr>\n",
              "      <th>...</th>\n",
              "      <td>...</td>\n",
              "      <td>...</td>\n",
              "      <td>...</td>\n",
              "      <td>...</td>\n",
              "      <td>...</td>\n",
              "      <td>...</td>\n",
              "      <td>...</td>\n",
              "      <td>...</td>\n",
              "      <td>...</td>\n",
              "      <td>...</td>\n",
              "      <td>...</td>\n",
              "      <td>...</td>\n",
              "      <td>...</td>\n",
              "      <td>...</td>\n",
              "      <td>...</td>\n",
              "    </tr>\n",
              "    <tr>\n",
              "      <th>5301</th>\n",
              "      <td>31-12-2014</td>\n",
              "      <td>NaN</td>\n",
              "      <td>NaN</td>\n",
              "      <td>NaN</td>\n",
              "      <td>NaN</td>\n",
              "      <td>NaN</td>\n",
              "      <td>NaN</td>\n",
              "      <td>NaN</td>\n",
              "      <td>NaN</td>\n",
              "      <td>NaN</td>\n",
              "      <td>NaN</td>\n",
              "      <td>NaN</td>\n",
              "      <td>NaN</td>\n",
              "      <td>NaN</td>\n",
              "      <td>NaN</td>\n",
              "    </tr>\n",
              "    <tr>\n",
              "      <th>5302</th>\n",
              "      <td>31-12-2015</td>\n",
              "      <td>NaN</td>\n",
              "      <td>NaN</td>\n",
              "      <td>NaN</td>\n",
              "      <td>NaN</td>\n",
              "      <td>NaN</td>\n",
              "      <td>NaN</td>\n",
              "      <td>NaN</td>\n",
              "      <td>NaN</td>\n",
              "      <td>NaN</td>\n",
              "      <td>NaN</td>\n",
              "      <td>NaN</td>\n",
              "      <td>NaN</td>\n",
              "      <td>NaN</td>\n",
              "      <td>NaN</td>\n",
              "    </tr>\n",
              "    <tr>\n",
              "      <th>5303</th>\n",
              "      <td>31-12-2018</td>\n",
              "      <td>NaN</td>\n",
              "      <td>NaN</td>\n",
              "      <td>NaN</td>\n",
              "      <td>NaN</td>\n",
              "      <td>NaN</td>\n",
              "      <td>NaN</td>\n",
              "      <td>NaN</td>\n",
              "      <td>NaN</td>\n",
              "      <td>NaN</td>\n",
              "      <td>NaN</td>\n",
              "      <td>NaN</td>\n",
              "      <td>NaN</td>\n",
              "      <td>NaN</td>\n",
              "      <td>NaN</td>\n",
              "    </tr>\n",
              "    <tr>\n",
              "      <th>5304</th>\n",
              "      <td>31-12-2019</td>\n",
              "      <td>NaN</td>\n",
              "      <td>NaN</td>\n",
              "      <td>NaN</td>\n",
              "      <td>NaN</td>\n",
              "      <td>NaN</td>\n",
              "      <td>NaN</td>\n",
              "      <td>NaN</td>\n",
              "      <td>NaN</td>\n",
              "      <td>NaN</td>\n",
              "      <td>NaN</td>\n",
              "      <td>NaN</td>\n",
              "      <td>NaN</td>\n",
              "      <td>NaN</td>\n",
              "      <td>NaN</td>\n",
              "    </tr>\n",
              "    <tr>\n",
              "      <th>5305</th>\n",
              "      <td>31-12-2020</td>\n",
              "      <td>NaN</td>\n",
              "      <td>NaN</td>\n",
              "      <td>NaN</td>\n",
              "      <td>NaN</td>\n",
              "      <td>NaN</td>\n",
              "      <td>NaN</td>\n",
              "      <td>NaN</td>\n",
              "      <td>NaN</td>\n",
              "      <td>NaN</td>\n",
              "      <td>NaN</td>\n",
              "      <td>NaN</td>\n",
              "      <td>NaN</td>\n",
              "      <td>NaN</td>\n",
              "      <td>NaN</td>\n",
              "    </tr>\n",
              "  </tbody>\n",
              "</table>\n",
              "<p>5306 rows × 15 columns</p>\n",
              "</div>"
            ],
            "text/plain": [
              "            Date     Symbol Series  ...    Trades  Deliverable Volume  %Deliverble\n",
              "0     01-01-2001  ICICIBANK     EQ  ...   67629.0            165421.0       0.5259\n",
              "1     01-01-2002        NaN    NaN  ...   86251.0            467007.0       0.5336\n",
              "2     01-01-2003        NaN    NaN  ...   90450.0                 NaN          NaN\n",
              "3     01-01-2004        NaN    NaN  ...  103381.0                 NaN          NaN\n",
              "4     01-01-2008        NaN    NaN  ...  103630.0                 NaN          NaN\n",
              "...          ...        ...    ...  ...       ...                 ...          ...\n",
              "5301  31-12-2014        NaN    NaN  ...       NaN                 NaN          NaN\n",
              "5302  31-12-2015        NaN    NaN  ...       NaN                 NaN          NaN\n",
              "5303  31-12-2018        NaN    NaN  ...       NaN                 NaN          NaN\n",
              "5304  31-12-2019        NaN    NaN  ...       NaN                 NaN          NaN\n",
              "5305  31-12-2020        NaN    NaN  ...       NaN                 NaN          NaN\n",
              "\n",
              "[5306 rows x 15 columns]"
            ]
          },
          "metadata": {},
          "execution_count": 34
        }
      ]
    },
    {
      "cell_type": "code",
      "metadata": {
        "colab": {
          "base_uri": "https://localhost:8080/"
        },
        "id": "M5ipLSup7l4R",
        "outputId": "303ca04c-830b-4ea1-865c-6ce5e938fe6a"
      },
      "source": [
        "## variance ##\n",
        "np.var(df)"
      ],
      "execution_count": null,
      "outputs": [
        {
          "output_type": "execute_result",
          "data": {
            "text/plain": [
              "Prev Close            1.359761e+05\n",
              "Open                  1.360549e+05\n",
              "High                  1.399092e+05\n",
              "Low                   1.320272e+05\n",
              "Last                  1.359182e+05\n",
              "Close                 1.359328e+05\n",
              "VWAP                  1.359487e+05\n",
              "Volume                1.484547e+14\n",
              "Turnover              2.263557e+29\n",
              "Trades                9.798737e+09\n",
              "Deliverable Volume    4.050962e+13\n",
              "%Deliverble           1.728741e-02\n",
              "dtype: float64"
            ]
          },
          "metadata": {},
          "execution_count": 35
        }
      ]
    },
    {
      "cell_type": "code",
      "metadata": {
        "colab": {
          "base_uri": "https://localhost:8080/"
        },
        "id": "UYI6OhO77v2n",
        "outputId": "e99abf46-94d5-4f94-d4cd-8d7afe5ac011"
      },
      "source": [
        "## standard deviation ##\n",
        "np.std(df)"
      ],
      "execution_count": null,
      "outputs": [
        {
          "output_type": "execute_result",
          "data": {
            "text/plain": [
              "Prev Close            3.687493e+02\n",
              "Open                  3.688562e+02\n",
              "High                  3.740444e+02\n",
              "Low                   3.633554e+02\n",
              "Last                  3.686709e+02\n",
              "Close                 3.686906e+02\n",
              "VWAP                  3.687122e+02\n",
              "Volume                1.218420e+07\n",
              "Turnover              4.757685e+14\n",
              "Trades                9.898857e+04\n",
              "Deliverable Volume    6.364717e+06\n",
              "%Deliverble           1.314816e-01\n",
              "dtype: float64"
            ]
          },
          "metadata": {},
          "execution_count": 36
        }
      ]
    },
    {
      "cell_type": "code",
      "metadata": {
        "colab": {
          "base_uri": "https://localhost:8080/"
        },
        "id": "hZopCl4c-19a",
        "outputId": "6ea423cd-9ccc-4fc1-d3be-ca2149b139c7"
      },
      "source": [
        "## range\n",
        "df['Low'].max() - df['Low'].min()"
      ],
      "execution_count": null,
      "outputs": [
        {
          "output_type": "execute_result",
          "data": {
            "text/plain": [
              "1694.15"
            ]
          },
          "metadata": {},
          "execution_count": 37
        }
      ]
    },
    {
      "cell_type": "code",
      "metadata": {
        "colab": {
          "base_uri": "https://localhost:8080/"
        },
        "id": "ltOGroR48CCj",
        "outputId": "c497c7bf-39e3-4003-afee-9e458113ecd2"
      },
      "source": [
        "## q3, q1 = np.percentile(data, []) ##\n",
        "## iqr = q3 - q1 ##\n",
        "data['Low'].quantile([0.25,0.5,0.75])"
      ],
      "execution_count": null,
      "outputs": [
        {
          "output_type": "execute_result",
          "data": {
            "text/plain": [
              "0.25    263.625\n",
              "0.50    392.450\n",
              "0.75    859.800\n",
              "Name: Low, dtype: float64"
            ]
          },
          "metadata": {},
          "execution_count": 38
        }
      ]
    },
    {
      "cell_type": "code",
      "metadata": {
        "colab": {
          "base_uri": "https://localhost:8080/"
        },
        "id": "p4oAF6fO_TJD",
        "outputId": "51b34fd7-1720-4fa0-9fac-2b36a49f8843"
      },
      "source": [
        "## Skewness =3(Mean- Median)/Standard Deviation ##\n",
        "df.skew()"
      ],
      "execution_count": null,
      "outputs": [
        {
          "output_type": "execute_result",
          "data": {
            "text/plain": [
              "Prev Close             0.751634\n",
              "Open                   0.748978\n",
              "High                   0.743097\n",
              "Low                    0.759964\n",
              "Last                   0.751635\n",
              "Close                  0.751599\n",
              "VWAP                   0.751310\n",
              "Volume                 4.856834\n",
              "Turnover               7.000400\n",
              "Trades                 2.910304\n",
              "Deliverable Volume    11.910473\n",
              "%Deliverble            0.007097\n",
              "dtype: float64"
            ]
          },
          "metadata": {},
          "execution_count": 39
        }
      ]
    },
    {
      "cell_type": "code",
      "metadata": {
        "colab": {
          "base_uri": "https://localhost:8080/"
        },
        "id": "Q66Ct615A_27",
        "outputId": "0d5af193-3945-48c8-8bbe-0bc9d1b2b204"
      },
      "source": [
        "## krutosis ##\n",
        "df.kurtosis()"
      ],
      "execution_count": null,
      "outputs": [
        {
          "output_type": "execute_result",
          "data": {
            "text/plain": [
              "Prev Close             -0.432107\n",
              "Open                   -0.445145\n",
              "High                   -0.461216\n",
              "Low                    -0.408504\n",
              "Last                   -0.431299\n",
              "Close                  -0.431838\n",
              "VWAP                   -0.434371\n",
              "Volume                 62.835324\n",
              "Turnover              157.331069\n",
              "Trades                 12.748884\n",
              "Deliverable Volume    361.297706\n",
              "%Deliverble            -0.103833\n",
              "dtype: float64"
            ]
          },
          "metadata": {},
          "execution_count": 40
        }
      ]
    },
    {
      "cell_type": "code",
      "metadata": {
        "colab": {
          "base_uri": "https://localhost:8080/",
          "height": 348
        },
        "id": "o36gYlONBCwA",
        "outputId": "9fb1a17c-dcfe-4cd7-d448-50c0800af32e"
      },
      "source": [
        "import matplotlib.pyplot\n",
        "df.boxplot()"
      ],
      "execution_count": null,
      "outputs": [
        {
          "output_type": "stream",
          "name": "stderr",
          "text": [
            "/usr/local/lib/python3.7/dist-packages/numpy/core/_asarray.py:83: VisibleDeprecationWarning: Creating an ndarray from ragged nested sequences (which is a list-or-tuple of lists-or-tuples-or ndarrays with different lengths or shapes) is deprecated. If you meant to do this, you must specify 'dtype=object' when creating the ndarray\n",
            "  return array(a, dtype, copy=False, order=order)\n"
          ]
        },
        {
          "output_type": "execute_result",
          "data": {
            "text/plain": [
              "<matplotlib.axes._subplots.AxesSubplot at 0x7ff1de246a10>"
            ]
          },
          "metadata": {},
          "execution_count": 41
        },
        {
          "output_type": "display_data",
          "data": {
            "image/png": "[encoded data removed]",
            "text/plain": [
              "<Figure size 432x288 with 1 Axes>"
            ]
          },
          "metadata": {
            "needs_background": "light"
          }
        }
      ]
    },
    {
      "cell_type": "code",
      "metadata": {
        "colab": {
          "base_uri": "https://localhost:8080/",
          "height": 519
        },
        "id": "S51CLDrqBPdO",
        "outputId": "8d9b5858-44ac-4bf6-d1de-b76c804784c8"
      },
      "source": [
        "df.hist()"
      ],
      "execution_count": null,
      "outputs": [
        {
          "output_type": "execute_result",
          "data": {
            "text/plain": [
              "array([[<matplotlib.axes._subplots.AxesSubplot object at 0x7ff1de0845d0>,\n",
              "        <matplotlib.axes._subplots.AxesSubplot object at 0x7ff1de0a4e10>,\n",
              "        <matplotlib.axes._subplots.AxesSubplot object at 0x7ff1de067490>],\n",
              "       [<matplotlib.axes._subplots.AxesSubplot object at 0x7ff1de01cb10>,\n",
              "        <matplotlib.axes._subplots.AxesSubplot object at 0x7ff1ddfe01d0>,\n",
              "        <matplotlib.axes._subplots.AxesSubplot object at 0x7ff1ddf95850>],\n",
              "       [<matplotlib.axes._subplots.AxesSubplot object at 0x7ff1ddf4bf50>,\n",
              "        <matplotlib.axes._subplots.AxesSubplot object at 0x7ff1ddf0e550>,\n",
              "        <matplotlib.axes._subplots.AxesSubplot object at 0x7ff1ddf0e590>],\n",
              "       [<matplotlib.axes._subplots.AxesSubplot object at 0x7ff1dded00d0>,\n",
              "        <matplotlib.axes._subplots.AxesSubplot object at 0x7ff1dde46bd0>,\n",
              "        <matplotlib.axes._subplots.AxesSubplot object at 0x7ff1dde03290>]],\n",
              "      dtype=object)"
            ]
          },
          "metadata": {},
          "execution_count": 42
        },
        {
          "output_type": "display_data",
          "data": {
            "image/png": "[encoded data removed]",
            "text/plain": [
              "<Figure size 432x288 with 12 Axes>"
            ]
          },
          "metadata": {
            "needs_background": "light"
          }
        }
      ]
    },
    {
      "cell_type": "code",
      "metadata": {
        "colab": {
          "base_uri": "https://localhost:8080/",
          "height": 576
        },
        "id": "ZJ-p3gpsBmNa",
        "outputId": "761fb416-3398-40f4-9aee-5c2f664ec793"
      },
      "source": [
        "print(data.plot.scatter('Last','Close'))\n",
        "print(data.plot.scatter('Low','High'))"
      ],
      "execution_count": null,
      "outputs": [
        {
          "output_type": "stream",
          "name": "stdout",
          "text": [
            "AxesSubplot(0.125,0.125;0.775x0.755)\n",
            "AxesSubplot(0.125,0.125;0.775x0.755)\n"
          ]
        },
        {
          "output_type": "display_data",
          "data": {
            "image/png": "[encoded data removed]",
            "text/plain": [
              "<Figure size 432x288 with 1 Axes>"
            ]
          },
          "metadata": {
            "needs_background": "light"
          }
        },
        {
          "output_type": "display_data",
          "data": {
            "image/png": "[encoded data removed]",
            "text/plain": [
              "<Figure size 432x288 with 1 Axes>"
            ]
          },
          "metadata": {
            "needs_background": "light"
          }
        }
      ]
    },
    {
      "cell_type": "code",
      "metadata": {
        "id": "xvdfbo3YCdlE",
        "colab": {
          "base_uri": "https://localhost:8080/",
          "height": 743
        },
        "outputId": "706c71ce-ebc3-4e2e-d073-ba4df886d42b"
      },
      "source": [
        "import seaborn as sns\n",
        "sns.pairplot(data[['Open','High','Low','Last']])"
      ],
      "execution_count": null,
      "outputs": [
        {
          "output_type": "execute_result",
          "data": {
            "text/plain": [
              "<seaborn.axisgrid.PairGrid at 0x7ff1dd935e10>"
            ]
          },
          "metadata": {},
          "execution_count": 48
        },
        {
          "output_type": "display_data",
          "data": {
            "image/png": "[encoded data removed]",
            "text/plain": [
              "<Figure size 720x720 with 20 Axes>"
            ]
          },
          "metadata": {
            "needs_background": "light"
          }
        }
      ]
    },
    {
      "cell_type": "code",
      "metadata": {
        "colab": {
          "base_uri": "https://localhost:8080/"
        },
        "id": "cM28gi1l6TLV",
        "outputId": "c49b893a-d53d-4fa4-d8c2-b2d223a1227a"
      },
      "source": [
        "max_price = data[\"Close\"].max() \n",
        "print(max_price) "
      ],
      "execution_count": null,
      "outputs": [
        {
          "output_type": "stream",
          "name": "stdout",
          "text": [
            "1794.1\n"
          ]
        }
      ]
    },
    {
      "cell_type": "code",
      "metadata": {
        "colab": {
          "base_uri": "https://localhost:8080/"
        },
        "id": "gbaJ-os16ef5",
        "outputId": "5c040e98-0784-4c86-af8a-2dee061f17ff"
      },
      "source": [
        "min_price = data['Close'].min()\n",
        "print(min_price) "
      ],
      "execution_count": null,
      "outputs": [
        {
          "output_type": "stream",
          "name": "stdout",
          "text": [
            "67.4\n"
          ]
        }
      ]
    },
    {
      "cell_type": "code",
      "metadata": {
        "colab": {
          "base_uri": "https://localhost:8080/"
        },
        "id": "gYGh1CBo6k4r",
        "outputId": "fd2b55a1-20d0-489b-fe6c-9eff8a82b03c"
      },
      "source": [
        "max_price = data['Open'].max() \n",
        "print(max_price) "
      ],
      "execution_count": null,
      "outputs": [
        {
          "output_type": "stream",
          "name": "stdout",
          "text": [
            "1767.05\n"
          ]
        }
      ]
    }
  ]
}